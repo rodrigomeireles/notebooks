{
  "nbformat": 4,
  "nbformat_minor": 0,
  "metadata": {
    "kernelspec": {
      "display_name": "Python 3",
      "language": "python",
      "name": "python3"
    },
    "language_info": {
      "codemirror_mode": {
        "name": "ipython",
        "version": 3
      },
      "file_extension": ".py",
      "mimetype": "text/x-python",
      "name": "python",
      "nbconvert_exporter": "python",
      "pygments_lexer": "ipython3",
      "version": "3.8.1"
    },
    "colab": {
      "name": "Crank_Nicolson traduzido",
      "provenance": [],
      "include_colab_link": true
    }
  },
  "cells": [
    {
      "cell_type": "markdown",
      "metadata": {
        "id": "view-in-github",
        "colab_type": "text"
      },
      "source": [
        "<a href=\"https://colab.research.google.com/github/rodrigomeireles/notebooks/blob/main/Crank_Nicolson_traduzido.ipynb\" target=\"_parent\"><img src=\"https://colab.research.google.com/assets/colab-badge.svg\" alt=\"Open In Colab\"/></a>"
      ]
    },
    {
      "cell_type": "markdown",
      "metadata": {
        "id": "bXIhnSZWq1Ec"
      },
      "source": [
        "**negrito**# \"The Crank-Nicolson method implemented from scratch in Python\"\n",
        "(https://georg.io/2013/12/03/Crank_Nicolson)\n",
        "> \"In this article we implement the well-known finite difference method Crank-Nicolson in Python.\"\n",
        "- toc: true\n",
        "- branch: master\n",
        "- badges: true\n",
        "- comments: true\n",
        "- categories: [python, numpy, numerical analysis, partial differential equations]\n",
        "\n",
        "Tradução por Rodrigo Meireles"
      ]
    },
    {
      "cell_type": "markdown",
      "metadata": {
        "id": "ebQzoun2q1Eg"
      },
      "source": [
        "# O Método de Crank-Nicolson"
      ]
    },
    {
      "cell_type": "code",
      "source": [
        ""
      ],
      "metadata": {
        "id": "XCOoB5ssLA_s"
      },
      "execution_count": null,
      "outputs": []
    },
    {
      "cell_type": "markdown",
      "metadata": {
        "id": "rkIdvaMMq1Eh"
      },
      "source": [
        "O [método de Crank-Nicolson](https://pt.wikipedia.org/wiki/M%C3%A9todo_de_Crank%E2%80%93Nicolson) é um método de diferenças finitas bem conhecido para a integração numérica da equação de calor e equações diferenciais parciais relacionadas.\n",
        "\n",
        "Frequentemente recorremos a um esquema Crank-Nicolson (CN) quando integramos numericamente sistemas de reação-difusão em espaços de uma dimensão\n",
        "\n",
        "$$\\frac{\\partial u}{\\partial t} = D \\frac{\\partial^2 u}{\\partial x^2} + f(u),$$\n",
        "\n",
        "$$\\frac{\\partial u}{\\partial x}\\Bigg|_{x = 0, L} = 0,$$\n",
        "\n",
        "onde $u$ é nossa variável de concentração, $x$ é a variável do espaço, $D$ é o coeficiente de difusão de $u$, $f$ é o termo reacionário,\n",
        "e $L$ é o comprimento do espaço unidimensional.\n",
        "\n",
        "Note que usamos a [condição de contorno de Neumann](https://pt.wikipedia.org/wiki/Condi%C3%A7%C3%A3o_de_contorno_de_Neumann) e especificamos que a solução\n",
        "$u$ tem a derivada nula no contorno, efetivamente proibindo a saída ou entrada de material nas fronteiras (condições de contorno sem fluxo)."
      ]
    },
    {
      "cell_type": "markdown",
      "metadata": {
        "id": "3OcEEhVZq1Eh"
      },
      "source": [
        "## Métodos de Diferenças Finitas"
      ]
    },
    {
      "cell_type": "markdown",
      "metadata": {
        "id": "JBmDhshkq1Eh"
      },
      "source": [
        "Muitos tutoriais e livros fantásticos foram escritos sobre o método de diferenças finitas, por exemplo o livro gratuito escrito por\n",
        "[Lloyd Trefethen](http://people.maths.ox.ac.uk/trefethen/pdetext.html).\n",
        "\n",
        "Aqui descrevemos alguns aspectos básicos do método de diferenças finitas.\n",
        "\n",
        "A equação de reação-difusão acima descreve a evolução no tempo da variável $u(x,t)$ em uma dimensão do espaço ($u$ é a concentração em uma linha).\n",
        "Se soubéssemos a expressão analítica para $u(x,t)$ então poderíamos desenhar o gráfico de $u$ em um sistema de coordenadas bidimensional com eixos $t$ e $x$.\n",
        "\n",
        "Para aproximar $u(x,t)$ numericamente nós discretizamos esse sistema de coordenadas bidimensional resultando, no caso mais simples, em uma grade cartesiana [grade cartesiana](https://pt.wikipedia.org/wiki/Grade_cartesiana) bidimensional.\n",
        "Esta figura é comumente empregada quando construímos métodos de diferenças finitas, veja por exemplo a \n",
        "[Figura 3.2.1 de Trefethen](http://people.maths.ox.ac.uk/trefethen/3all.pdf).\n",
        "\n",
        "Vamos discretizar tempo e espaço da seguinte maneira:\n",
        "\n",
        "$$t_n = n \\Delta t,~ n = 0, \\ldots, N-1,$$\n",
        "\n",
        "$$x_j = j \\Delta x,~ j = 0, \\ldots, J-1,$$\n",
        "\n",
        "onde $N$ e $J$ são, respectivamente, o número de pontos no espaço e tempo na nossa grade.\n",
        "$\\Delta t$ e $\\Delta x$ são, respectivamente, o passo no tempo e o passo no espaço e definidos como a seguir:\n",
        "\n",
        "$$\\Delta t = T / N,$$\n",
        "\n",
        "$$\\Delta x = L / J,$$\n",
        "\n",
        "onde $T$ é o ponto no tempo até onde integraremos $u$ numericamente.\n",
        "\n",
        "Nosso objetivo final é construirmos um método numéricos que nos permita aproximarmos à solução analítica $u(x,t)$\n",
        "razoavelmente bem nesses pontos da grade.\n",
        "\n",
        "Isto é, queremos construir um método que calcule os valores $U(j \\Delta x, n \\Delta t)$ (note: $U$ maiúsculo) de maneira que\n",
        "\n",
        "$$U(j \\Delta x, n \\Delta t) \\approx u(j \\Delta x, n \\Delta t)$$\n",
        "\n",
        "Escreveremos $U_j^n = U(j \\Delta x, n \\Delta t)$ e $(j,n)$ para nos referir aos pontos da grade $(j \\Delta x, n \\Delta t)$."
      ]
    },
    {
      "cell_type": "markdown",
      "metadata": {
        "id": "gIe4z33Zq1Ei"
      },
      "source": [
        "## O Estêncil de Crank-Nicolson"
      ]
    },
    {
      "cell_type": "markdown",
      "metadata": {
        "id": "WikYM8W4q1Ei"
      },
      "source": [
        "Baseados na grade bidimensional que construímos, aproximamos os operadores do nosso modelo de reação-difusão.\n",
        "\n",
        "Por exemplo, para aproximar a derivada no tempo do lado esquerdo da equação no ponto $(j,n)$ nós usamos os valores de $U$ em dois pontos específicos da grade:\n",
        "\n",
        "$$\\frac{\\partial u}{\\partial t}\\Bigg|_{x = j \\Delta x, t = n \\Delta t} \\approx \\frac{U_j^{n+1} - U_j^n}{\\Delta t}.$$\n",
        "\n",
        "Podemos pensar nesse esquema como um estêncil que sobrepomos à grade $(x,t)$, este estêncil em específico é comumente conhecido como [diferença posterior](https://pt.wikipedia.org/wiki/Operador_de_diferen%C3%A7a).\n",
        "\n",
        "A parte espacial do [estêncil de Crank-Nicolson](http://journals.cambridge.org/abstract_S0305004100023197)\n",
        "\\(ou veja a [Tabela 3.2.2 de Trefethen](http://people.maths.ox.ac.uk/trefethen/3all.pdf)\\)\n",
        "para a equação de calor ($u_t = u_{xx}$) aproxima o\n",
        "[Laplaciano](https://pt.wikipedia.org/wiki/Laplaciano) da nossa equação e toma a seguinte forma\n",
        "\n",
        "$$\\frac{\\partial^2 u}{\\partial x^2}\\Bigg|_{x = j \\Delta x, t = n \\Delta t} \\approx \\frac{1}{2 \\Delta x^2} \\left( U_{j+1}^n - 2 U_j^n + U_{j-1}^n + U_{j+1}^{n+1} - 2 U_j^{n+1} + U_{j-1}^{n+1}\\right).$$\n",
        "\n",
        "Para aproximar $f(u(j \\Delta x, n \\Delta t))$ simplesmente escrevemos $f(U_j^n)$.\n",
        "\n",
        "Estas aproximações definem o estêncil para o nosso método numérico como visto na [Wikipedia](https://pt.wikipedia.org/wiki/M%C3%A9todo_de_Crank%E2%80%93Nicolson).\n",
        "\n",
        "Aplicando o estêncil ao ponto da grade $(j,n)$ nos dá a seguinte aproximação para a nossa equação de reação-difusão:\n",
        "\n",
        "$$\\frac{U_j^{n+1} - U_j^n}{\\Delta t} = \\frac{D}{2 \\Delta x^2} \\left( U_{j+1}^n - 2 U_j^n + U_{j-1}^n + U_{j+1}^{n+1} - 2 U_j^{n+1} + U_{j-1}^{n+1}\\right) + f(U_j^n).$$"
      ]
    },
    {
      "cell_type": "markdown",
      "metadata": {
        "id": "kkEH5fdyq1Ei"
      },
      "source": [
        "## Reordenando o Estêncil em um Sistema Linear"
      ]
    },
    {
      "cell_type": "markdown",
      "metadata": {
        "id": "Lm92ZwK7q1Ej"
      },
      "source": [
        "Vamos definir $\\sigma = \\frac{D \\Delta t}{2 \\Delta x^2}$ e reordenar a aproximação acima da nossa equação de reação-difusão:\n",
        "\n",
        "$$-\\sigma U_{j-1}^{n+1} + (1+2\\sigma) U_j^{n+1} -\\sigma U_{j+1}^{n+1} = \\sigma U_{j-1}^n + (1-2\\sigma) U_j^n + \\sigma U_{j+1}^n + \\Delta t f(U_j^n).$$\n",
        "\n",
        "Esta equação faz sentidos para índices espaciais $j = 1,\\ldots,J-2$ mas não faz sentido para os índices $j=0$ and $j=J-1$ (nas fronteiras):\n",
        "\n",
        "$$j=0:~-\\sigma U_{-1}^{n+1} + (1+2\\sigma) U_0^{n+1} -\\sigma U_{1}^{n+1} = \\sigma U_{-1}^n + (1-2\\sigma) U_0^n + \\sigma U_{1}^n + \\Delta t f(U_0^n),$$\n",
        "\n",
        "$$j=J-1:~-\\sigma U_{J-2}^{n+1} + (1+2\\sigma) U_{J-1}^{n+1} -\\sigma U_{J}^{n+1} = \\sigma U_{J-2}^n + (1-2\\sigma) U_{J-1}^n + \\sigma U_{J}^n + \\Delta t f(U_{J-1}^n).$$\n",
        "\n",
        "O problema aqui é que os valores $U_{-1}^n$ and $U_J^n$ estão fora da grade.\n",
        "\n",
        "No entanto, utilizando as condições de contorno de Neumann, podemos descobrir quais valores a fronteira deveria ter.\n",
        "Vamos discretizar nossa fronteira em $j=0$ com a\n",
        "[diferença anterior](http://en.wikipedia.org/wiki/Finite_difference#Forward.2C_backward.2C_and_central_differences) e em $j=J-1$ com a\n",
        "[diferença posterior](http://en.wikipedia.org/wiki/Finite_difference#Forward.2C_backward.2C_and_central_differences):\n",
        "\n",
        "$$\\frac{U_1^n - U_0^n}{\\Delta x} = 0,$$\n",
        "\n",
        "$$\\frac{U_J^n - U_{J-1}^n}{\\Delta x} = 0.$$\n",
        "Estas duas equações deixam claro que precisamos retificar nossa aproximação numérica acima para\n",
        "$j=0$ com as identidades $U_0^n = U_1^n$ and $U_0^{n+1} = U_1^{n+1}$, e para $j=J-1$ com as identidades $U_{J-1}^n = U_J^n$ and $U_{J-1}^{n+1} = U_J^{n+1}$.\n",
        "\n",
        "Vamos reinterpretar nossa aproximação numérica da concentração linear de $u$ em um ponto fixo como um vetor $\\mathbf{U}^n$:\n",
        "\n",
        "$$\\mathbf{U}^n = \n",
        "\\begin{bmatrix} U_0^n \\\\ \\vdots \\\\ U_{J-1}^n \\end{bmatrix}.$$\n",
        "\n",
        "Usando essa notação podemos escrever nossa aproximação acima para um ponto fixo do tempo, $t = n \\Delta t$, de maneira compacta como um sistema linear:\n",
        "\n",
        "$$\n",
        "\\begin{bmatrix}\n",
        "1+\\sigma & -\\sigma & 0 & 0 & 0 & \\cdots & 0 & 0 & 0 & 0\\\\\n",
        "-\\sigma & 1+2\\sigma & -\\sigma & 0 & 0 & \\cdots & 0 & 0 & 0 & 0 \\\\\n",
        "0 & -\\sigma & 1+2\\sigma & -\\sigma & \\cdots & 0 & 0 & 0 & 0 & 0 \\\\\n",
        "0 & 0 & \\ddots & \\ddots & \\ddots & \\ddots & 0 & 0 & 0 & 0 \\\\\n",
        "0 & 0 & 0 & 0 & 0 & 0 & 0 & -\\sigma & 1+2\\sigma & -\\sigma \\\\\n",
        "0 & 0 & 0 & 0 & 0 & 0 & 0 & 0 & -\\sigma & 1+\\sigma\n",
        "\\end{bmatrix}\n",
        "\\begin{bmatrix}\n",
        "U_0^{n+1} \\\\\n",
        "U_1^{n+1} \\\\\n",
        "U_2^{n+1} \\\\\n",
        "\\vdots \\\\\n",
        "U_{J-2}^{n+1} \\\\\n",
        "U_{J-1}^{n+1}\n",
        "\\end{bmatrix} =\n",
        "\\begin{bmatrix}\n",
        "1-\\sigma & \\sigma & 0 & 0 & 0 & \\cdots & 0 & 0 & 0 & 0\\\\\n",
        "\\sigma & 1-2\\sigma & \\sigma & 0 & 0 & \\cdots & 0 & 0 & 0 & 0 \\\\\n",
        "0 & \\sigma & 1-2\\sigma & \\sigma & \\cdots & 0 & 0 & 0 & 0 & 0 \\\\\n",
        "0 & 0 & \\ddots & \\ddots & \\ddots & \\ddots & 0 & 0 & 0 & 0 \\\\\n",
        "0 & 0 & 0 & 0 & 0 & 0 & 0 & \\sigma & 1-2\\sigma & \\sigma \\\\\n",
        "0 & 0 & 0 & 0 & 0 & 0 & 0 & 0 & \\sigma & 1-\\sigma\n",
        "\\end{bmatrix}\n",
        "\\begin{bmatrix}\n",
        "U_0^{n} \\\\\n",
        "U_1^{n} \\\\\n",
        "U_2^{n} \\\\\n",
        "\\vdots \\\\\n",
        "U_{J-2}^{n} \\\\\n",
        "U_{J-1}^{n}\n",
        "\\end{bmatrix} +\n",
        "\\begin{bmatrix}\n",
        "\\Delta t f(U_0^n) \\\\\n",
        "\\Delta t f(U_1^n) \\\\\n",
        "\\Delta t f(U_2^n) \\\\\n",
        "\\vdots \\\\\n",
        "\\Delta t f(U_{J-2}^n) \\\\\n",
        "\\Delta t f(U_{J-1}^n)\n",
        "\\end{bmatrix}.\n",
        "$$\n",
        "\n",
        "Note que como nossa integração numérica começa com uma condição inicial bem definida em $n=0$, $\\mathbf{U}^0$, o vetor $\\mathbf{U}^{n+1}$ do lado esquerdo é a única variável indeterminada nesse sistema de equações lineares.\n",
        "\n",
        "Portanto para integrar numericamente nosso sistema de reação-difusão do ponto temporal $n$ até $n+1$ precisamos resolver numericamente para o vetor $\\mathbf{U}^{n+1}$.\n",
        "\n",
        "Vamos chamar a matriz do lado esquerdo $A$ e a do lado direito $B$,\n",
        "o vetor do lado direito é $\\mathbf{f}^n$.\n",
        "Usando esta notação podemos escrever o sistema acima como\n",
        "\n",
        "$$A \\mathbf{U}^{n+1} = B \\mathbf{U}^n + f^n.$$\n",
        "\n",
        "Nesta equação linear as matrizes $A$ e $B$ estão definidas pelo nosso problema: precisamos especificar essas matrizes uma vez para o nosso problema e incorporar nossas condições de contorno nelas.\n",
        "O vetor $\\mathbf{f}^n$ é uma função de $\\mathbf{U}^n$ e portanto precisa ser recalculado a cada ponto temporal $n$.\n",
        "Nós também precisamos calcular uma multiplicação entre matriz e vetor para cada ponto temporal, $B \\mathbf{U}^n$, e uma soma de vetor com vetor, $B \\mathbf{U}^n + f^n$.\n",
        "\n",
        "A operação numérica mais cara é a inversão da matriz $A$ para encontrar $\\mathbf{U}^{n+1}$, no entanto podemos fazer isso apenas uma vez e guardar na memória a inversa de $A$ como $A^{-1}$:\n",
        "\n",
        "$$\\mathbf{U}^{n+1} = A^{-1} \\left( B \\mathbf{U}^n + f^n \\right).$$"
      ]
    },
    {
      "cell_type": "markdown",
      "metadata": {
        "id": "VN9Kq-djq1El"
      },
      "source": [
        "## Um Exemplo de Crank-Nicolson em Python"
      ]
    },
    {
      "cell_type": "markdown",
      "metadata": {
        "id": "9NaIoGlDq1En"
      },
      "source": [
        "Vamos aplicar o método CN para um sistema bivariado de reação-difusão que foi introduzido por\n",
        "[Mori *et al.*](http://www.sciencedirect.com/science/article/pii/S0006349508704442):\n",
        "\n",
        "$$\\frac{\\partial u}{\\partial t} = D_u \\frac{\\partial^2 u}{\\partial x^2} + f(u,v),$$\n",
        "\n",
        "$$\\frac{\\partial v}{\\partial t} = D_v \\frac{\\partial^2 v}{\\partial x^2} - f(u,v),$$\n",
        "\n",
        "com condições de contorno de Neumann\n",
        "\n",
        "$$\\frac{\\partial u}{\\partial x}\\Bigg|_{x=0,L} = 0,$$\n",
        "\n",
        "$$\\frac{\\partial v}{\\partial x}\\Bigg|_{x=0,L} = 0.$$\n",
        "\n",
        "As variáveis deste sistema, $u$ e $v$, respectivamente, representam as concentrações da forma ativa e inativa.\n",
        "O termo reacionário $f(u,v)$ descreve a troca (ativação e desativação) entre esses dois estados da proteína.\n",
        "Uma propriedade em particular deste sistema é que o estado inativo tem uma difusidade muito maior que a forma ativa, $D_v \\gg D_u$.\n",
        "\n",
        "Usando o método de CN para integrar este sistema numericamente, precisamos inicializar duas aproximações separadamente\n",
        "\n",
        "$$A_u \\mathbf{U}^{n+1} = B_u \\mathbf{U}^n + \\mathbf{f}^n,$$\n",
        "\n",
        "$$A_v \\mathbf{V}^{n+1} = B_v \\mathbf{V}^n - \\mathbf{f}^n,$$\n",
        "\n",
        "com dois termos $\\sigma$ diferentes, $\\sigma_u = \\frac{D_u \\Delta t}{2 \\Delta x^2}$ and $\\sigma_v = \\frac{D_v \\Delta t}{2 \\Delta x^2}$."
      ]
    },
    {
      "cell_type": "markdown",
      "metadata": {
        "id": "zDq1TznRq1Eo"
      },
      "source": [
        "### Importando Pacotes"
      ]
    },
    {
      "cell_type": "markdown",
      "metadata": {
        "id": "cMu7necxq1Eo"
      },
      "source": [
        "Para a multiplicação entre matriz e vetor, soma entre vetores e inversão de matrizes  usaremos a biblioteca do [NumPy](http://www.numpy.org/).\n",
        "Para visualizar as soluções numéricas, usaremos o [pyplot](http://matplotlib.org/api/pyplot_api.html)."
      ]
    },
    {
      "cell_type": "code",
      "metadata": {
        "id": "vLGORIX6q1Eo"
      },
      "source": [
        "import numpy\n",
        "from matplotlib import pyplot"
      ],
      "execution_count": null,
      "outputs": []
    },
    {
      "cell_type": "markdown",
      "metadata": {
        "id": "-KGCdOF7q1Eo"
      },
      "source": [
        "Numpy nos permite truncar os valores numéricos das matrizes para melhorar sua visibilidade com [`set_printoptions`](http://docs.scipy.org/doc/numpy/reference/generated/numpy.set_printoptions.html)."
      ]
    },
    {
      "cell_type": "code",
      "metadata": {
        "id": "TFgRA662q1Ep"
      },
      "source": [
        "numpy.set_printoptions(precision=3)"
      ],
      "execution_count": null,
      "outputs": []
    },
    {
      "cell_type": "markdown",
      "metadata": {
        "id": "AQfwF788q1Ep"
      },
      "source": [
        "### Especificando a Grade"
      ]
    },
    {
      "cell_type": "markdown",
      "metadata": {
        "id": "gtY2_VNeq1Ep"
      },
      "source": [
        "Nosso domínio unidimensional tem tamanho unitário e definimos `J = 100` pontos da grade igualmente espaçados nesse domínio.\n",
        "Isto divide nosso domínio em `J-1` subintervalos, cada um de tamanho `dx`."
      ]
    },
    {
      "cell_type": "code",
      "metadata": {
        "id": "lHk-gw7lq1Ep"
      },
      "source": [
        "L = 1.\n",
        "J = 100\n",
        "dx = float(L)/float(J-1)\n",
        "x_grid = numpy.array([j*dx for j in range(J)])"
      ],
      "execution_count": null,
      "outputs": []
    },
    {
      "cell_type": "markdown",
      "metadata": {
        "id": "cjxvOP_0q1Ep"
      },
      "source": [
        "Igualmente, definimos `N = 1000` pontos da grade igualmente espaçados no domínio temporal de tamanho `T = 200`, portanto dividindo nosso domínio temporal em `N-1` intervalos de tamanho `dt`."
      ]
    },
    {
      "cell_type": "code",
      "metadata": {
        "id": "2mxOT3WDq1Ep"
      },
      "source": [
        "T = 200\n",
        "N = 1000\n",
        "dt = float(T)/float(N-1)\n",
        "t_grid = numpy.array([n*dt for n in range(N)])"
      ],
      "execution_count": null,
      "outputs": []
    },
    {
      "cell_type": "markdown",
      "metadata": {
        "id": "P8zQmA5yq1Eq"
      },
      "source": [
        "### Especificando os Parâmetros do Sistema e o Termo Reacionário"
      ]
    },
    {
      "cell_type": "markdown",
      "metadata": {
        "id": "tnVkL1aOq1Eq"
      },
      "source": [
        "Escolhemos nossos parâmetros baseados no trabalho de\n",
        "[Mori *et al.*](http://www.sciencedirect.com/science/article/pii/S0006349508704442)."
      ]
    },
    {
      "cell_type": "code",
      "metadata": {
        "id": "tx1QojPpq1Eq"
      },
      "source": [
        "D_v = float(10.)/float(100.)\n",
        "D_u = 0.01 * D_v\n",
        "\n",
        "k0 = 0.067\n",
        "f = lambda u, v: dt*(v*(k0 + float(u*u)/float(1. + u*u)) - u)\n",
        "g = lambda u, v: -f(u,v)\n",
        " \n",
        "sigma_u = float(D_u*dt)/float((2.*dx*dx))\n",
        "sigma_v = float(D_v*dt)/float((2.*dx*dx))\n",
        "\n",
        "total_protein = 2.26"
      ],
      "execution_count": null,
      "outputs": []
    },
    {
      "cell_type": "markdown",
      "metadata": {
        "id": "IHF9lB4jq1Eq"
      },
      "source": [
        "### Especificando a Condição Inicial"
      ]
    },
    {
      "cell_type": "markdown",
      "metadata": {
        "id": "BtVAkYZoq1Eq"
      },
      "source": [
        "Como discutido em [Mori *et al.*](http://www.sciencedirect.com/science/article/pii/S0006349508704442), podemos esperar observar um comportamento interessante no estado estacionário desse sistema se escolhermos uma condição inicial heterogênea para $u$.\n",
        "\n",
        "Aqui inicializamos $u$ com heterogeneidade discreta:"
      ]
    },
    {
      "cell_type": "code",
      "metadata": {
        "id": "i7OqkhnWq1Eq"
      },
      "source": [
        "no_high = 10\n",
        "U =  numpy.array([0.1 for i in range(no_high,J)] + [2. for i in range(0,no_high)])\n",
        "V = numpy.array([float(total_protein-dx*sum(U))/float(J*dx) for i in range(0,J)])"
      ],
      "execution_count": null,
      "outputs": []
    },
    {
      "cell_type": "markdown",
      "metadata": {
        "id": "toDGKAHQq1Eq"
      },
      "source": [
        "Note que igualamos o total de proteínas a um certo valor, `total_protein`. A importância disso foi discutida por [Walther *et al.*](http://link.springer.com/article/10.1007%2Fs11538-012-9766-5).\n",
        "\n",
        "Vamos plotar nossa condição inicial para confirmação:"
      ]
    },
    {
      "cell_type": "code",
      "metadata": {
        "id": "-mNg-t14q1Eq",
        "colab": {
          "base_uri": "https://localhost:8080/",
          "height": 279
        },
        "outputId": "968011fa-23f8-49b2-f550-aa3c523c66f6"
      },
      "source": [
        "pyplot.ylim((0., 2.1))\n",
        "pyplot.xlabel('x'); pyplot.ylabel('concentration')\n",
        "pyplot.plot(x_grid, U)\n",
        "pyplot.plot(x_grid, V)\n",
        "pyplot.show()"
      ],
      "execution_count": null,
      "outputs": [
        {
          "output_type": "display_data",
          "data": {
            "image/png": "[encoded data removed]",
            "text/plain": [
              "<Figure size 432x288 with 1 Axes>"
            ]
          },
          "metadata": {
            "tags": [],
            "needs_background": "light"
          }
        }
      ]
    },
    {
      "cell_type": "markdown",
      "metadata": {
        "id": "xriAyOTIq1Er"
      },
      "source": [
        "A curva azul é a condição inicial para $U$, guardada na variável do Python `U`, a curva verde é a condição inicial para $V$ guardada em `V`."
      ]
    },
    {
      "cell_type": "markdown",
      "metadata": {
        "id": "C27d6hCiq1Er"
      },
      "source": [
        "### Criando Matrizes"
      ]
    },
    {
      "cell_type": "markdown",
      "metadata": {
        "id": "dcckzNnqq1Es"
      },
      "source": [
        "As matrizes que precisamos construir são todas tridiagonais, logo fáceis de construir com\n",
        "[`numpy.diagflat`](http://docs.scipy.org/doc/numpy/reference/generated/numpy.diagflat.html)."
      ]
    },
    {
      "cell_type": "code",
      "metadata": {
        "id": "odsQBA0Tq1Es"
      },
      "source": [
        "A_u = numpy.diagflat([-sigma_u for i in range(J-1)], -1) +\\\n",
        "      numpy.diagflat([1.+sigma_u]+[1.+2.*sigma_u for i in range(J-2)]+[1.+sigma_u]) +\\\n",
        "      numpy.diagflat([-sigma_u for i in range(J-1)], 1)\n",
        "        \n",
        "B_u = numpy.diagflat([sigma_u for i in range(J-1)], -1) +\\\n",
        "      numpy.diagflat([1.-sigma_u]+[1.-2.*sigma_u for i in range(J-2)]+[1.-sigma_u]) +\\\n",
        "      numpy.diagflat([sigma_u for i in range(J-1)], 1)\n",
        "        \n",
        "A_v = numpy.diagflat([-sigma_v for i in range(J-1)], -1) +\\\n",
        "      numpy.diagflat([1.+sigma_v]+[1.+2.*sigma_v for i in range(J-2)]+[1.+sigma_v]) +\\\n",
        "      numpy.diagflat([-sigma_v for i in range(J-1)], 1)\n",
        "        \n",
        "B_v = numpy.diagflat([sigma_v for i in range(J-1)], -1) +\\\n",
        "      numpy.diagflat([1.-sigma_v]+[1.-2.*sigma_v for i in range(J-2)]+[1.-sigma_v]) +\\\n",
        "      numpy.diagflat([sigma_v for i in range(J-1)], 1)"
      ],
      "execution_count": null,
      "outputs": []
    },
    {
      "cell_type": "markdown",
      "metadata": {
        "id": "5Zcsjj_gq1Es"
      },
      "source": [
        "Para confirmar, é assim que `A_u` se parece:"
      ]
    },
    {
      "cell_type": "code",
      "metadata": {
        "id": "kJ0JZj_0q1Es",
        "colab": {
          "base_uri": "https://localhost:8080/"
        },
        "outputId": "d30bd89f-ec74-4b19-cac1-a57603c55753"
      },
      "source": [
        "print(A_u)"
      ],
      "execution_count": null,
      "outputs": [
        {
          "output_type": "stream",
          "text": [
            "[[ 1.981 -0.981  0.    ...  0.     0.     0.   ]\n",
            " [-0.981  2.962 -0.981 ...  0.     0.     0.   ]\n",
            " [ 0.    -0.981  2.962 ...  0.     0.     0.   ]\n",
            " ...\n",
            " [ 0.     0.     0.    ...  2.962 -0.981  0.   ]\n",
            " [ 0.     0.     0.    ... -0.981  2.962 -0.981]\n",
            " [ 0.     0.     0.    ...  0.    -0.981  1.981]]\n"
          ],
          "name": "stdout"
        }
      ]
    },
    {
      "cell_type": "markdown",
      "metadata": {
        "id": "BAP_JIx3q1Es"
      },
      "source": [
        "### Resolvendo o Sistema Iterativamente"
      ]
    },
    {
      "cell_type": "markdown",
      "metadata": {
        "id": "TQydJjHxq1Es"
      },
      "source": [
        "Para avançar o nosso sistema um passo temporal, precisamos fazer uma multiplicação de matriz por vetor seguida de uma soma de vetor com vetor no lado direito da equação.\n",
        "\n",
        "Para facilitar, reescrevemos nosso termo reacionário para que aceite vetores de concentração $\\mathbf{U}^n$ e $\\mathbf{V}^n$ como argumentos e retorne um vetor $\\mathbf{f}^n$.\n",
        "\n",
        "Como lembrete, essa é a nossa definição não vetorial de $f$\n",
        "\n",
        "    f = lambda u, v: v*(k0 + float(u*u)/float(1. + u*u)) - u"
      ]
    },
    {
      "cell_type": "code",
      "metadata": {
        "id": "2X9wZhUdq1Es"
      },
      "source": [
        "f_vec = lambda U, V: numpy.multiply(dt, numpy.subtract(numpy.multiply(V, \n",
        "                     numpy.add(k0, numpy.divide(numpy.multiply(U,U), numpy.add(1., numpy.multiply(U,U))))), U))"
      ],
      "execution_count": null,
      "outputs": []
    },
    {
      "cell_type": "markdown",
      "metadata": {
        "id": "5hsNvgfLq1Et"
      },
      "source": [
        "Vamos nos certificar que produzimos os mesmos valores que o nosso `f` não vetorial:"
      ]
    },
    {
      "cell_type": "code",
      "metadata": {
        "id": "dwzC3LLPq1Et",
        "colab": {
          "base_uri": "https://localhost:8080/"
        },
        "outputId": "84d184e8-0c21-4b94-8ee3-dfc6b3dc50c4"
      },
      "source": [
        "print(f(U[0], V[0]))"
      ],
      "execution_count": null,
      "outputs": [
        {
          "output_type": "stream",
          "text": [
            "0.009961358982745121\n"
          ],
          "name": "stdout"
        }
      ]
    },
    {
      "cell_type": "code",
      "metadata": {
        "id": "am6m9cQUq1Et",
        "colab": {
          "base_uri": "https://localhost:8080/"
        },
        "outputId": "042176dd-0b33-4c98-d48a-d648ee50eccf"
      },
      "source": [
        "print(f(U[-1], V[-1]))"
      ],
      "execution_count": null,
      "outputs": [
        {
          "output_type": "stream",
          "text": [
            "-0.06238322322322325\n"
          ],
          "name": "stdout"
        }
      ]
    },
    {
      "cell_type": "code",
      "metadata": {
        "id": "yRrbOal_q1Et",
        "colab": {
          "base_uri": "https://localhost:8080/"
        },
        "outputId": "2ede980f-3025-4738-c981-a73b85e730d2"
      },
      "source": [
        "print(f_vec(U, V))"
      ],
      "execution_count": null,
      "outputs": [
        {
          "output_type": "stream",
          "text": [
            "[ 0.01   0.01   0.01   0.01   0.01   0.01   0.01   0.01   0.01   0.01\n",
            "  0.01   0.01   0.01   0.01   0.01   0.01   0.01   0.01   0.01   0.01\n",
            "  0.01   0.01   0.01   0.01   0.01   0.01   0.01   0.01   0.01   0.01\n",
            "  0.01   0.01   0.01   0.01   0.01   0.01   0.01   0.01   0.01   0.01\n",
            "  0.01   0.01   0.01   0.01   0.01   0.01   0.01   0.01   0.01   0.01\n",
            "  0.01   0.01   0.01   0.01   0.01   0.01   0.01   0.01   0.01   0.01\n",
            "  0.01   0.01   0.01   0.01   0.01   0.01   0.01   0.01   0.01   0.01\n",
            "  0.01   0.01   0.01   0.01   0.01   0.01   0.01   0.01   0.01   0.01\n",
            "  0.01   0.01   0.01   0.01   0.01   0.01   0.01   0.01   0.01   0.01\n",
            " -0.062 -0.062 -0.062 -0.062 -0.062 -0.062 -0.062 -0.062 -0.062 -0.062]\n"
          ],
          "name": "stdout"
        }
      ]
    },
    {
      "cell_type": "markdown",
      "metadata": {
        "id": "gBkZRf1cq1Et"
      },
      "source": [
        "Levando em conta nosso arrendondamento dos valores exibidos graças a `set_printoptions`, podemos ver que `f` e `f_vec` geram os mesmos valores para nossas condições iniciais em ambos limites do domínio."
      ]
    },
    {
      "cell_type": "markdown",
      "metadata": {
        "id": "v-VMsAoqq1Et"
      },
      "source": [
        "Usaremos [`numpy.linalg.solve`](http://docs.scipy.org/doc/numpy/reference/generated/numpy.linalg.solve.html) para resolver nosso sistema linear a cada passo temporal."
      ]
    },
    {
      "cell_type": "markdown",
      "metadata": {
        "id": "n5MQoTvrq1Eu"
      },
      "source": [
        "Enquanto integramos nosso sistema no tempo, salvaremos tanto `U` quanto `V` a cada passo temporal em `U_record` e `V_record`, respectivamente, para que possamos plotar nossas soluções numéricas no tempo."
      ]
    },
    {
      "cell_type": "code",
      "metadata": {
        "id": "No5chgWhq1Eu"
      },
      "source": [
        "U_record = []\n",
        "V_record = []\n",
        "\n",
        "U_record.append(U)\n",
        "V_record.append(V)\n",
        "\n",
        "for ti in range(1,N):\n",
        "    U_new = numpy.linalg.solve(A_u, B_u.dot(U) + f_vec(U,V))\n",
        "    V_new = numpy.linalg.solve(A_v, B_v.dot(V) - f_vec(U,V))\n",
        "    \n",
        "    U = U_new\n",
        "    V = V_new\n",
        "    \n",
        "    U_record.append(U)\n",
        "    V_record.append(V)"
      ],
      "execution_count": null,
      "outputs": []
    },
    {
      "cell_type": "markdown",
      "metadata": {
        "id": "7-vr94baq1Eu"
      },
      "source": [
        "### Plotando a Solução Numérica"
      ]
    },
    {
      "cell_type": "markdown",
      "metadata": {
        "id": "5apO3FnJq1Eu"
      },
      "source": [
        "Observemos a solução n umérica obtida após `N` espaços temporais."
      ]
    },
    {
      "cell_type": "code",
      "metadata": {
        "id": "Ztq_YPXiq1Eu",
        "colab": {
          "base_uri": "https://localhost:8080/",
          "height": 279
        },
        "outputId": "77232af1-a18d-4203-968f-0a5c7955b25a"
      },
      "source": [
        "pyplot.ylim((0., 2.1))\n",
        "pyplot.xlabel('x'); pyplot.ylabel('concentration')\n",
        "pyplot.plot(x_grid, U)\n",
        "pyplot.plot(x_grid, V)\n",
        "pyplot.show()"
      ],
      "execution_count": null,
      "outputs": [
        {
          "output_type": "display_data",
          "data": {
            "image/png": "[encoded data removed]",
            "text/plain": [
              "<Figure size 432x288 with 1 Axes>"
            ]
          },
          "metadata": {
            "tags": [],
            "needs_background": "light"
          }
        }
      ]
    },
    {
      "cell_type": "markdown",
      "metadata": {
        "id": "oOJDT4-Vq1Eu"
      },
      "source": [
        "Aqui temos um [quimógrafo](http://en.wikipedia.org/wiki/Kymograph) dos valores de `U`.\n",
        "Este gráfico mostra concisamente o comportamento de `U` no tempo e podemos claramente observar o comportamento de estabilização da onda descrito por [Mori *et al.*](http://www.sciencedirect.com/science/article/pii/S0006349508704442).\n",
        "Além disso, observamos que esse padrão de onda é estável por cerca de 50 unidades de tempo e podemos concluir que o padrão é o estado estacionário do nosso sistema."
      ]
    },
    {
      "cell_type": "code",
      "metadata": {
        "id": "M0IIWusUq1Eu",
        "colab": {
          "base_uri": "https://localhost:8080/",
          "height": 283
        },
        "outputId": "dd1cb9b7-0a92-4375-fecb-265666467ecc"
      },
      "source": [
        "U_record = numpy.array(U_record)\n",
        "V_record = numpy.array(V_record)\n",
        "\n",
        "fig, ax = pyplot.subplots()\n",
        "pyplot.xlabel('x'); pyplot.ylabel('t')\n",
        "heatmap = ax.pcolor(x_grid, t_grid, U_record, vmin=0., vmax=1.2)"
      ],
      "execution_count": null,
      "outputs": [
        {
          "output_type": "display_data",
          "data": {
            "image/png": "[encoded data removed]",
            "text/plain": [
              "<Figure size 432x288 with 1 Axes>"
            ]
          },
          "metadata": {
            "tags": [],
            "needs_background": "light"
          }
        }
      ]
    }
  ]
}